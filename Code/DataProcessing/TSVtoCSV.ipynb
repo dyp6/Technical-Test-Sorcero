{
 "cells": [
  {
   "cell_type": "code",
   "execution_count": 1,
   "id": "16d77467",
   "metadata": {},
   "outputs": [],
   "source": [
    "# Only need pandas to change the format from tsv to csv. This is only being done out of a matter of \n",
    "# preference, it doesn't have any real importance to the remainder of the work\n",
    "import pandas as pd"
   ]
  },
  {
   "cell_type": "code",
   "execution_count": 2,
   "id": "d28ca8ef",
   "metadata": {},
   "outputs": [],
   "source": [
    "# Read the downloaded .tsv files\n",
    "dev = pd.read_csv(\"../../Data/RawData/dev.tsv\",sep=\"\\t\")\n",
    "train = pd.read_csv(\"../../Data/RawData/train.tsv\",sep=\"\\t\")\n",
    "test = pd.read_csv(\"../../Data/RawData/test.tsv\",sep=\"\\t\")"
   ]
  },
  {
   "cell_type": "code",
   "execution_count": 3,
   "id": "b82febcc",
   "metadata": {},
   "outputs": [],
   "source": [
    "# Write them back to a new directory in .csv format\n",
    "dev.to_csv(\"../../Data/RawDataCsvFormat/dev.csv\")\n",
    "train.to_csv(\"../../Data/RawDataCsvFormat/train.csv\")\n",
    "test.to_csv(\"../../Data/RawDataCsvFormat/test.csv\")"
   ]
  }
 ],
 "metadata": {
  "kernelspec": {
   "display_name": "Python 3",
   "language": "python",
   "name": "python3"
  },
  "language_info": {
   "codemirror_mode": {
    "name": "ipython",
    "version": 3
   },
   "file_extension": ".py",
   "mimetype": "text/x-python",
   "name": "python",
   "nbconvert_exporter": "python",
   "pygments_lexer": "ipython3",
   "version": "3.8.10"
  }
 },
 "nbformat": 4,
 "nbformat_minor": 5
}
