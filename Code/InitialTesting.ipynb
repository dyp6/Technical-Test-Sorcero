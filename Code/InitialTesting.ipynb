{
 "cells": [
  {
   "cell_type": "code",
   "execution_count": null,
   "id": "454530be",
   "metadata": {},
   "outputs": [],
   "source": [
    "import pandas as pd\n",
    "import numpy as np\n",
    "import tensorflow as tf"
   ]
  },
  {
   "cell_type": "code",
   "execution_count": null,
   "id": "65a775a6",
   "metadata": {},
   "outputs": [],
   "source": [
    "from datasets import list_datasets, load_dataset, ClassLabel\n",
    "from transformers import TFAutoModelForSequenceClassification, AutoTokenizer"
   ]
  },
  {
   "cell_type": "code",
   "execution_count": null,
   "id": "5e366978",
   "metadata": {},
   "outputs": [],
   "source": [
    "path = \"/home/postd/Documents/gitRepos/Technical-Test-Sorcero/Data/RawDataCsvFormat/\""
   ]
  },
  {
   "cell_type": "code",
   "execution_count": null,
   "id": "3792e036",
   "metadata": {},
   "outputs": [],
   "source": [
    "health_facts = load_dataset('csv',data_files={'train':path+'train.csv',\n",
    "                                              'test':path+'test.csv',\n",
    "                                              'validation':path+'dev.csv'})\n",
    "health_facts = health_facts.remove_columns(['claim_id','explanation','main_text','date_published',\n",
    "                                             'fact_checkers','sources','subjects','labels'])"
   ]
  },
  {
   "cell_type": "code",
   "execution_count": null,
   "id": "b175e690",
   "metadata": {},
   "outputs": [],
   "source": [
    "new_features = health_facts['train'].features.copy()\n",
    "new_features['label'] = ClassLabel(names=[\"false\",\"unproven\",\"mixture\",\"true\"])\n",
    "health_facts = health_facts.cast(new_features)"
   ]
  },
  {
   "cell_type": "code",
   "execution_count": null,
   "id": "a7b91fae",
   "metadata": {},
   "outputs": [],
   "source": [
    "tokenizer = AutoTokenizer.from_pretrained('bert-base-cased')"
   ]
  },
  {
   "cell_type": "code",
   "execution_count": null,
   "id": "c75a425c",
   "metadata": {},
   "outputs": [],
   "source": [
    "def encode_hf(dset):\n",
    "    return tokenizer(dset['claim'], truncation=True, padding='max_length')"
   ]
  },
  {
   "cell_type": "code",
   "execution_count": null,
   "id": "d83245b0",
   "metadata": {},
   "outputs": [],
   "source": [
    "hftokenized = health_facts.map(encode_hf,batched=True)"
   ]
  },
  {
   "cell_type": "code",
   "execution_count": null,
   "id": "f3ca52cf",
   "metadata": {},
   "outputs": [],
   "source": [
    "train_dataset_hf= hftokenized[\"train\"]\n",
    "test_dataset_hf = hftokenized[\"test\"]\n",
    "#val_dataset_hf = hftokenized[\"validation\"]"
   ]
  },
  {
   "cell_type": "code",
   "execution_count": null,
   "id": "ef8783ff",
   "metadata": {},
   "outputs": [],
   "source": [
    "model = TFAutoModelForSequenceClassification.from_pretrained(\"bert-base-cased\",num_labels=4)"
   ]
  },
  {
   "cell_type": "code",
   "execution_count": null,
   "id": "a8a9e5cd",
   "metadata": {},
   "outputs": [],
   "source": [
    "tf_train_hf = train_dataset_hf.remove_columns([\"claim\"]).with_format(\"tensorflow\")\n",
    "tf_test_hf = test_dataset_hf.remove_columns([\"claim\"]).with_format(\"tensorflow\")\n",
    "#tf_val_hf = val_dataset_hf.remove_columns([\"claim\"]).with_format(\"tensorflow\")"
   ]
  },
  {
   "cell_type": "code",
   "execution_count": null,
   "id": "ff679ca7",
   "metadata": {},
   "outputs": [],
   "source": [
    "train_features = {x: tf_train_hf[x].to_tensor() for x in tokenizer.model_input_names}\n",
    "train_tf_hf = tf.data.Dataset.from_tensor_slices((train_features, tf_train_hf[\"label\"]))\n",
    "train_tf_hf = train_tf_hf.shuffle(len(tf_train_hf)).batch(8)\n",
    "\n",
    "train_dataset_hf_small = train_dataset_hf.shuffle(seed=61).select(range(1000))\n",
    "tf_train_hf_small = train_dataset_hf_small.remove_columns([\"claim\"]).with_format(\"tensorflow\")\n",
    "train_features_sm = {x: tf_train_hf_small[x].to_tensor() for x in tokenizer.model_input_names}\n",
    "train_tf_hf_sm = tf.data.Dataset.from_tensor_slices((train_features_sm, tf_train_hf_small[\"label\"]))\n",
    "train_tf_hf_sm = train_tf_hf_sm.shuffle(len(tf_train_hf_small)).batch(8)\n",
    "\n",
    "test_features = {x: tf_test_hf[x].to_tensor() for x in tokenizer.model_input_names}\n",
    "test_tf_hf = tf.data.Dataset.from_tensor_slices((test_features, tf_test_hf[\"label\"]))\n",
    "test_tf_hf = test_tf_hf.shuffle(len(tf_test_hf)).batch(8)\n",
    "\n",
    "#val_features = {x: tf_val_hf[x].to_tensor() for x in tokenizer.model_input_names}\n",
    "#val_tf_hf = tf.data.Dataset.from_tensor_slices((val_features, tf_val_hf[\"label\"]))\n",
    "#val_tf_hf = val_tf_hf.batch(8)"
   ]
  },
  {
   "cell_type": "code",
   "execution_count": null,
   "id": "43d3325f",
   "metadata": {},
   "outputs": [],
   "source": [
    "model.compile(\n",
    "    optimizer=tf.keras.optimizers.Adam(learning_rate=5e-5),\n",
    "    loss=tf.keras.losses.SparseCategoricalCrossentropy(from_logits=True),\n",
    "    metrics=tf.metrics.SparseCategoricalAccuracy(),\n",
    ")\n",
    "\n",
    "model.fit(train_tf_hf_sm, validation_data=test_tf_hf, epochs=3)"
   ]
  },
  {
   "cell_type": "code",
   "execution_count": null,
   "id": "b9a9d12f",
   "metadata": {},
   "outputs": [],
   "source": []
  }
 ],
 "metadata": {
  "kernelspec": {
   "display_name": "HugFaceEnv",
   "language": "python",
   "name": "hugfaceenv"
  },
  "language_info": {
   "codemirror_mode": {
    "name": "ipython",
    "version": 3
   },
   "file_extension": ".py",
   "mimetype": "text/x-python",
   "name": "python",
   "nbconvert_exporter": "python",
   "pygments_lexer": "ipython3",
   "version": "3.8.10"
  }
 },
 "nbformat": 4,
 "nbformat_minor": 5
}
