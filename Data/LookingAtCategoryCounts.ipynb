{
 "cells": [
  {
   "cell_type": "code",
   "execution_count": 1,
   "id": "7fbcc9a1",
   "metadata": {},
   "outputs": [],
   "source": [
    "import pandas as pd"
   ]
  },
  {
   "cell_type": "code",
   "execution_count": 2,
   "id": "54cdf774",
   "metadata": {},
   "outputs": [],
   "source": [
    "val = pd.read_csv(\"dev.csv\")\n",
    "train = pd.read_csv(\"train.csv\")\n",
    "test = pd.read_csv(\"test.csv\")\n",
    "test = test.iloc[:,2:]"
   ]
  },
  {
   "cell_type": "code",
   "execution_count": 3,
   "id": "56793825",
   "metadata": {},
   "outputs": [],
   "source": [
    "full = pd.concat([train,val,test])"
   ]
  },
  {
   "cell_type": "code",
   "execution_count": 4,
   "id": "514a7e17",
   "metadata": {},
   "outputs": [],
   "source": [
    "full.loc[full.label==\"FALSE\",\"label\"] = \"false\"\n",
    "full.loc[full.label==\"TRUE\",\"label\"] = \"true\""
   ]
  },
  {
   "cell_type": "code",
   "execution_count": 5,
   "id": "dfefffb8",
   "metadata": {},
   "outputs": [],
   "source": [
    "full = full.loc[~pd.isnull(full.label),:]"
   ]
  },
  {
   "cell_type": "code",
   "execution_count": 6,
   "id": "27cd3d2e",
   "metadata": {},
   "outputs": [],
   "source": [
    "all_cats = [x.split(\",\") for x in full.subjects]"
   ]
  },
  {
   "cell_type": "code",
   "execution_count": 7,
   "id": "a511aa40",
   "metadata": {},
   "outputs": [],
   "source": [
    "all_cats = [x.strip().lower().replace('\"','') for y in all_cats for x in y]\n",
    "all_cats = [x for x in all_cats if len(x)>1]"
   ]
  },
  {
   "cell_type": "code",
   "execution_count": 8,
   "id": "f76109cf",
   "metadata": {},
   "outputs": [],
   "source": [
    "import numpy as np\n",
    "(unique, counts) = np.unique(all_cats, return_counts=True)\n",
    "counts = pd.DataFrame({\"categories\":unique,\"count_value\":counts})\n",
    "sortedcounts = counts.sort_values(by=\"count_value\",ascending=False)"
   ]
  },
  {
   "cell_type": "code",
   "execution_count": 10,
   "id": "618249fe",
   "metadata": {},
   "outputs": [],
   "source": [
    "final_list = [[x,y] for x,y in zip(sortedcounts.categories,sortedcounts.count_value)]"
   ]
  },
  {
   "cell_type": "code",
   "execution_count": null,
   "id": "ff9fc585",
   "metadata": {},
   "outputs": [],
   "source": []
  },
  {
   "cell_type": "code",
   "execution_count": null,
   "id": "faf2202c",
   "metadata": {},
   "outputs": [],
   "source": []
  },
  {
   "cell_type": "code",
   "execution_count": null,
   "id": "9075bd40",
   "metadata": {},
   "outputs": [],
   "source": []
  }
 ],
 "metadata": {
  "kernelspec": {
   "display_name": "Python 3",
   "language": "python",
   "name": "python3"
  },
  "language_info": {
   "codemirror_mode": {
    "name": "ipython",
    "version": 3
   },
   "file_extension": ".py",
   "mimetype": "text/x-python",
   "name": "python",
   "nbconvert_exporter": "python",
   "pygments_lexer": "ipython3",
   "version": "3.8.5"
  }
 },
 "nbformat": 4,
 "nbformat_minor": 5
}
